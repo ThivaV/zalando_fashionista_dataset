{
 "cells": [
  {
   "cell_type": "code",
   "execution_count": null,
   "metadata": {},
   "outputs": [],
   "source": []
  },
  {
   "cell_type": "markdown",
   "metadata": {},
   "source": [
    "## Download Missed Images"
   ]
  },
  {
   "cell_type": "code",
   "execution_count": 27,
   "metadata": {},
   "outputs": [],
   "source": [
    "import os\n",
    "import shutil\n",
    "import json\n",
    "from glob import glob\n",
    "import pandas as pd"
   ]
  },
  {
   "cell_type": "code",
   "execution_count": 23,
   "metadata": {},
   "outputs": [],
   "source": [
    "import requests\n",
    "from PIL import Image\n",
    "from io import BytesIO"
   ]
  },
  {
   "cell_type": "code",
   "execution_count": 12,
   "metadata": {},
   "outputs": [],
   "source": [
    "x300_missed_imgs = [\n",
    "    'TRU21U09A-B11_x300.jpg',\n",
    "    'M4622T07V-Q11_x300.jpg',\n",
    "    'JAM22D08I-M11_x300.jpg',\n",
    "    'VL422D15K-K11_x300.jpg',\n",
    "    'JP322D09V-K11_x300.jpg',\n",
    "    'CG122D00M-M11_x300.jpg',\n",
    "    'OA422D0WO-K11_x300.jpg',\n",
    "    'NX322D1N8-K11_x300.jpg',\n",
    "    'L2521D0CZ-Q11_x300.jpg',\n",
    "    'LE421D07X-B11_x300.jpg',\n",
    "    'COA21I007-O11_x300.jpg',\n",
    "    'VL422D13Y-K11_x300.jpg',\n",
    "    'CF221D02K-K11_x300.jpg',\n",
    "    'WIL41D01H-T11_x300.jpg',\n",
    "    'THA21D05K-K11_x300.jpg',\n",
    "    'S8521D39M-J11_x300.jpg',\n",
    "    'END21A00B-Q11_x300.jpg',\n",
    "    '10K42E00I-Q11_x300.jpg',\n",
    "    'OD142E041-Q11_x300.jpg',\n",
    "    '1ER42E02X-A11_x300.jpg',\n",
    "    'N1242E1MM-G11_x300.jpg',\n",
    "    'GU141E079-Q11_x300.jpg',\n",
    "    'N1242E1X2-K11_x300.jpg',\n",
    "    'SC742E033-K11_x300.jpg',\n",
    "    'C1422E03I-K11_x300.jpg',\n",
    "    'JY121C168-B11_x300.jpg',\n",
    "    'ONA21C0T8-Q11_x300.jpg',\n",
    "    'AMY21C06S-K11_x300.jpg',\n",
    "    'HAJ21002S-Q11_x300.jpg',\n",
    "    'NA622T08Y-Q11_x300.jpg',\n",
    "    'NX321G0KB-J11_x300.jpg',\n",
    "    'ONA21G02Y-A11_x300.jpg',\n",
    "    'NX322T12Z-K11_x300.jpg',\n",
    "    'M4R21U05N-Q11_x300.jpg',\n",
    "    'JOG21G005-K11_x300.jpg',\n",
    "    'NX321G0OI-Q11_x300.jpg',\n",
    "    'MN822T03R-A11_x300.jpg',\n",
    "    'NAP21U00K-G12_x300.jpg',\n",
    "    'JU022T0BI-K11_x300.jpg',\n",
    "    'C7042F09S-Q11_x300.jpg',\n",
    "    'SG822T01N-B11_x300.jpg',\n",
    "    'E3P21U006-M11_x300.jpg',\n",
    "    'M7N22G00Q-K11_x300.jpg',\n",
    "    'M9122G0OG-K11_x300.jpg',\n",
    "    'CE321N0T0-Q11_x300.jpg',\n",
    "    'BX022G09H-Q11_x300.jpg',\n",
    "    'M3I22G070-K11_x300.jpg',\n",
    "    'PUY22O02V-B11_x300.jpg',\n",
    "    'M3I22P0AQ-Q11_x300.jpg',\n",
    "]"
   ]
  },
  {
   "cell_type": "code",
   "execution_count": 7,
   "metadata": {},
   "outputs": [],
   "source": [
    "def read_json_file(file_path):\n",
    "    with open(file_path, 'r') as file:\n",
    "        return json.load(file)\n",
    "    \n",
    "json_list = []"
   ]
  },
  {
   "cell_type": "code",
   "execution_count": 8,
   "metadata": {},
   "outputs": [],
   "source": [
    "meta_imgs = r\"../data/processed_data/v1.0/ds/\"\n",
    "json_files = glob(os.path.join(meta_imgs, \"*.json\"))\n",
    "\n",
    "for json_file in json_files:\n",
    "    data = read_json_file(json_file) \n",
    "    json_list.append(data)\n",
    "\n",
    "flattened_list = [item for sublist in json_list for item in sublist]"
   ]
  },
  {
   "cell_type": "code",
   "execution_count": 9,
   "metadata": {},
   "outputs": [
    {
     "name": "stdout",
     "output_type": "stream",
     "text": [
      "Size of the image meta 193318\n"
     ]
    }
   ],
   "source": [
    "print(f\"Size of the image meta {len(flattened_list)}\")"
   ]
  },
  {
   "cell_type": "code",
   "execution_count": 10,
   "metadata": {},
   "outputs": [
    {
     "data": {
      "text/plain": [
       "{'name': 'BLAMELTON SN - Short coat - greige',\n",
       " 'brand': 'Jack & Jones PREMIUM',\n",
       " 'imageUrl': 'https://img01.ztat.net/article/spp-media-p1/a3e47318b5234ae7a3d0abc4c6eadfa7/e3aef744367b48b29751a313a964dc3d.jpg?imwidth=300',\n",
       " 'sku': 'JAM22T04V-O14',\n",
       " 'url': 'https://en.zalando.de/jack-and-jones-premium-jprblamelton-classic-coat-greige-jam22t04v-o14.html',\n",
       " 'originalPrice': '149,99\\xa0€',\n",
       " 'discountPercentage': '',\n",
       " 'sizes': [{'size': 'XS', 'sku': 'JAM22T04V-O1400XS000'},\n",
       "  {'size': 'M', 'sku': 'JAM22T04V-O14000M000'},\n",
       "  {'size': 'L', 'sku': 'JAM22T04V-O14000L000'},\n",
       "  {'size': 'XL', 'sku': 'JAM22T04V-O1400XL000'},\n",
       "  {'size': 'XXL', 'sku': 'JAM22T04V-O140XXL000'}],\n",
       " 'flags': [],\n",
       " 'category': ['Coats']}"
      ]
     },
     "execution_count": 10,
     "metadata": {},
     "output_type": "execute_result"
    }
   ],
   "source": [
    "flattened_list[0]"
   ]
  },
  {
   "cell_type": "code",
   "execution_count": null,
   "metadata": {},
   "outputs": [
    {
     "name": "stdout",
     "output_type": "stream",
     "text": [
      "The directory '../data/processed_data/v1.0/imgs/data/processed_data/v1.0/imgs/x300_medium/TRU21U09A-B11' has been deleted successfully.\n",
      "The directory '../data/processed_data/v1.0/imgs/data/processed_data/v1.0/imgs/x300_medium/M4622T07V-Q11' has been deleted successfully.\n",
      "The directory '../data/processed_data/v1.0/imgs/data/processed_data/v1.0/imgs/x300_medium/JAM22D08I-M11' has been deleted successfully.\n",
      "The directory '../data/processed_data/v1.0/imgs/data/processed_data/v1.0/imgs/x300_medium/VL422D15K-K11' has been deleted successfully.\n",
      "The directory '../data/processed_data/v1.0/imgs/data/processed_data/v1.0/imgs/x300_medium/JP322D09V-K11' has been deleted successfully.\n",
      "The directory '../data/processed_data/v1.0/imgs/data/processed_data/v1.0/imgs/x300_medium/CG122D00M-M11' has been deleted successfully.\n",
      "The directory '../data/processed_data/v1.0/imgs/data/processed_data/v1.0/imgs/x300_medium/OA422D0WO-K11' has been deleted successfully.\n",
      "The directory '../data/processed_data/v1.0/imgs/data/processed_data/v1.0/imgs/x300_medium/NX322D1N8-K11' has been deleted successfully.\n",
      "The directory '../data/processed_data/v1.0/imgs/data/processed_data/v1.0/imgs/x300_medium/L2521D0CZ-Q11' has been deleted successfully.\n",
      "The directory '../data/processed_data/v1.0/imgs/data/processed_data/v1.0/imgs/x300_medium/LE421D07X-B11' has been deleted successfully.\n",
      "The directory '../data/processed_data/v1.0/imgs/data/processed_data/v1.0/imgs/x300_medium/COA21I007-O11' has been deleted successfully.\n",
      "The directory '../data/processed_data/v1.0/imgs/data/processed_data/v1.0/imgs/x300_medium/VL422D13Y-K11' has been deleted successfully.\n",
      "The directory '../data/processed_data/v1.0/imgs/data/processed_data/v1.0/imgs/x300_medium/CF221D02K-K11' has been deleted successfully.\n",
      "The directory '../data/processed_data/v1.0/imgs/data/processed_data/v1.0/imgs/x300_medium/WIL41D01H-T11' has been deleted successfully.\n",
      "The directory '../data/processed_data/v1.0/imgs/data/processed_data/v1.0/imgs/x300_medium/THA21D05K-K11' has been deleted successfully.\n",
      "The directory '../data/processed_data/v1.0/imgs/data/processed_data/v1.0/imgs/x300_medium/S8521D39M-J11' has been deleted successfully.\n",
      "The directory '../data/processed_data/v1.0/imgs/data/processed_data/v1.0/imgs/x300_medium/END21A00B-Q11' has been deleted successfully.\n",
      "The directory '../data/processed_data/v1.0/imgs/data/processed_data/v1.0/imgs/x300_medium/10K42E00I-Q11' has been deleted successfully.\n",
      "The directory '../data/processed_data/v1.0/imgs/data/processed_data/v1.0/imgs/x300_medium/OD142E041-Q11' has been deleted successfully.\n",
      "The directory '../data/processed_data/v1.0/imgs/data/processed_data/v1.0/imgs/x300_medium/1ER42E02X-A11' has been deleted successfully.\n",
      "The directory '../data/processed_data/v1.0/imgs/data/processed_data/v1.0/imgs/x300_medium/N1242E1MM-G11' has been deleted successfully.\n",
      "The directory '../data/processed_data/v1.0/imgs/data/processed_data/v1.0/imgs/x300_medium/GU141E079-Q11' has been deleted successfully.\n",
      "The directory '../data/processed_data/v1.0/imgs/data/processed_data/v1.0/imgs/x300_medium/N1242E1X2-K11' has been deleted successfully.\n",
      "The directory '../data/processed_data/v1.0/imgs/data/processed_data/v1.0/imgs/x300_medium/SC742E033-K11' has been deleted successfully.\n",
      "The directory '../data/processed_data/v1.0/imgs/data/processed_data/v1.0/imgs/x300_medium/C1422E03I-K11' has been deleted successfully.\n",
      "The directory '../data/processed_data/v1.0/imgs/data/processed_data/v1.0/imgs/x300_medium/JY121C168-B11' has been deleted successfully.\n",
      "The directory '../data/processed_data/v1.0/imgs/data/processed_data/v1.0/imgs/x300_medium/ONA21C0T8-Q11' has been deleted successfully.\n",
      "The directory '../data/processed_data/v1.0/imgs/data/processed_data/v1.0/imgs/x300_medium/AMY21C06S-K11' has been deleted successfully.\n",
      "The directory '../data/processed_data/v1.0/imgs/data/processed_data/v1.0/imgs/x300_medium/HAJ21002S-Q11' has been deleted successfully.\n",
      "The directory '../data/processed_data/v1.0/imgs/data/processed_data/v1.0/imgs/x300_medium/NA622T08Y-Q11' has been deleted successfully.\n",
      "The directory '../data/processed_data/v1.0/imgs/data/processed_data/v1.0/imgs/x300_medium/NX321G0KB-J11' has been deleted successfully.\n",
      "The directory '../data/processed_data/v1.0/imgs/data/processed_data/v1.0/imgs/x300_medium/ONA21G02Y-A11' has been deleted successfully.\n",
      "The directory '../data/processed_data/v1.0/imgs/data/processed_data/v1.0/imgs/x300_medium/NX322T12Z-K11' has been deleted successfully.\n",
      "The directory '../data/processed_data/v1.0/imgs/data/processed_data/v1.0/imgs/x300_medium/M4R21U05N-Q11' has been deleted successfully.\n",
      "The directory '../data/processed_data/v1.0/imgs/data/processed_data/v1.0/imgs/x300_medium/JOG21G005-K11' has been deleted successfully.\n",
      "The directory '../data/processed_data/v1.0/imgs/data/processed_data/v1.0/imgs/x300_medium/NX321G0OI-Q11' has been deleted successfully.\n",
      "The directory '../data/processed_data/v1.0/imgs/data/processed_data/v1.0/imgs/x300_medium/MN822T03R-A11' has been deleted successfully.\n",
      "The directory '../data/processed_data/v1.0/imgs/data/processed_data/v1.0/imgs/x300_medium/NAP21U00K-G12' has been deleted successfully.\n",
      "The directory '../data/processed_data/v1.0/imgs/data/processed_data/v1.0/imgs/x300_medium/JU022T0BI-K11' has been deleted successfully.\n",
      "The directory '../data/processed_data/v1.0/imgs/data/processed_data/v1.0/imgs/x300_medium/C7042F09S-Q11' has been deleted successfully.\n",
      "The directory '../data/processed_data/v1.0/imgs/data/processed_data/v1.0/imgs/x300_medium/SG822T01N-B11' has been deleted successfully.\n",
      "The directory '../data/processed_data/v1.0/imgs/data/processed_data/v1.0/imgs/x300_medium/E3P21U006-M11' has been deleted successfully.\n",
      "The directory '../data/processed_data/v1.0/imgs/data/processed_data/v1.0/imgs/x300_medium/M7N22G00Q-K11' has been deleted successfully.\n",
      "The directory '../data/processed_data/v1.0/imgs/data/processed_data/v1.0/imgs/x300_medium/M9122G0OG-K11' has been deleted successfully.\n",
      "The directory '../data/processed_data/v1.0/imgs/data/processed_data/v1.0/imgs/x300_medium/CE321N0T0-Q11' has been deleted successfully.\n",
      "The directory '../data/processed_data/v1.0/imgs/data/processed_data/v1.0/imgs/x300_medium/BX022G09H-Q11' has been deleted successfully.\n",
      "The directory '../data/processed_data/v1.0/imgs/data/processed_data/v1.0/imgs/x300_medium/M3I22G070-K11' has been deleted successfully.\n",
      "The directory '../data/processed_data/v1.0/imgs/data/processed_data/v1.0/imgs/x300_medium/PUY22O02V-B11' has been deleted successfully.\n",
      "The directory '../data/processed_data/v1.0/imgs/data/processed_data/v1.0/imgs/x300_medium/M3I22P0AQ-Q11' has been deleted successfully.\n"
     ]
    }
   ],
   "source": [
    "substring_to_remove_ext=\"_x300.jpg\"\n",
    "substring_to_remove=\"&filter=packshot\"\n",
    "\n",
    "for info in x300_missed_imgs:\n",
    "    # remove the substring \n",
    "    cleaned_sku=info.replace(substring_to_remove_ext, \"\")\n",
    "    \n",
    "    # filter\n",
    "    image_url=[item[\"imageUrl\"] for item in flattened_list if item[\"sku\"]==cleaned_sku][0]\n",
    "\n",
    "    # image_urls.append(image_url.replace(substring_to_remove, \"\"))\n",
    "    image_url=image_url.replace(substring_to_remove, \"\")\n",
    "\n",
    "    # send a HTTP request to the image URL\n",
    "    response = requests.get(image_url)\n",
    "\n",
    "    # open the image from the response content\n",
    "    image = Image.open(BytesIO(response.content))\n",
    "\n",
    "    dir_path = f\"imgs/{cleaned_sku}\"\n",
    "    os.makedirs(dir_path, exist_ok=True)\n",
    "\n",
    "    # save the image\n",
    "    image.save(os.path.join(dir_path, info))\n",
    "    print(f\"Image successfully downloaded and saved as {info}\")\n",
    "\n",
    "    # # remove existing directories\n",
    "    # master_dir_path=f\"../data/processed_data/v1.0/imgs/data/processed_data/v1.0/imgs/x300_medium/{cleaned_sku}\"\n",
    "    # if os.path.exists(master_dir_path): \n",
    "    #     shutil.rmtree(master_dir_path) \n",
    "    #     print(f\"The directory '{master_dir_path}' has been deleted successfully.\") \n",
    "    # else: \n",
    "    #     print(f\"The directory '{master_dir_path}' does not exist.\")"
   ]
  },
  {
   "cell_type": "code",
   "execution_count": null,
   "metadata": {},
   "outputs": [],
   "source": []
  }
 ],
 "metadata": {
  "kernelspec": {
   "display_name": "Python 3",
   "language": "python",
   "name": "python3"
  },
  "language_info": {
   "codemirror_mode": {
    "name": "ipython",
    "version": 3
   },
   "file_extension": ".py",
   "mimetype": "text/x-python",
   "name": "python",
   "nbconvert_exporter": "python",
   "pygments_lexer": "ipython3",
   "version": "3.11.0"
  }
 },
 "nbformat": 4,
 "nbformat_minor": 2
}
